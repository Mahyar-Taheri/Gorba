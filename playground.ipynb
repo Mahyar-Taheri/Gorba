{
 "cells": [
  {
   "cell_type": "code",
   "execution_count": 4,
   "metadata": {},
   "outputs": [],
   "source": [
    "import json\n",
    "import sqlite3\n",
    "\n",
    "with open(\"info.json\") as file :\n",
    "    token = json.load(file)\n",
    "    \n",
    "connection = sqlite3.connect(\"data/database.db\")\n",
    "cursor = connection.cursor()"
   ]
  },
  {
   "cell_type": "code",
   "execution_count": 6,
   "metadata": {},
   "outputs": [
    {
     "data": {
      "text/plain": [
       "[(1, 1, 5, 7900, 5, 761679223005249557, 40)]"
      ]
     },
     "execution_count": 6,
     "metadata": {},
     "output_type": "execute_result"
    }
   ],
   "source": [
    "cursor.execute(\"\"\"\n",
    "        SELECT * FROM Players WHERE Player = 761679223005249557\n",
    "\"\"\").fetchall()"
   ]
  },
  {
   "cell_type": "code",
   "execution_count": 1,
   "metadata": {},
   "outputs": [],
   "source": [
    "from utilities import UPDATE\n",
    "\n",
    "UPDATE(\"Players\", \"Player\", 761679223005249557, \"Money\", 7900)"
   ]
  },
  {
   "cell_type": "code",
   "execution_count": null,
   "metadata": {},
   "outputs": [],
   "source": []
  },
  {
   "cell_type": "code",
   "execution_count": 12,
   "metadata": {},
   "outputs": [
    {
     "ename": "OperationalError",
     "evalue": "table Jobs already exists",
     "output_type": "error",
     "traceback": [
      "\u001b[1;31m---------------------------------------------------------------------------\u001b[0m",
      "\u001b[1;31mOperationalError\u001b[0m                          Traceback (most recent call last)",
      "Cell \u001b[1;32mIn[12], line 1\u001b[0m\n\u001b[1;32m----> 1\u001b[0m cursor\u001b[39m.\u001b[39;49mexecute(\u001b[39m\"\"\"\u001b[39;49m\n\u001b[0;32m      2\u001b[0m \u001b[39m    CREATE TABLE Jobs (\u001b[39;49m\n\u001b[0;32m      3\u001b[0m \u001b[39m        JobID INT NOT NULL PRIMARY KEY ,\u001b[39;49m\n\u001b[0;32m      4\u001b[0m \u001b[39m        Title varchar(300) NOT NULL ,\u001b[39;49m\n\u001b[0;32m      5\u001b[0m \u001b[39m        Level INT DEFAULT 1 ,\u001b[39;49m\n\u001b[0;32m      6\u001b[0m \u001b[39m        PayCheck INT DEFAULT 100,\u001b[39;49m\n\u001b[0;32m      7\u001b[0m \u001b[39m        Multiplier INT DEFAULT 1 ,\u001b[39;49m\n\u001b[0;32m      8\u001b[0m \u001b[39m        Text TEXT DEFAULT \u001b[39;49m\u001b[39m\"\u001b[39;49m\u001b[39mworked hard and earned money\u001b[39;49m\u001b[39m\"\u001b[39;49m\n\u001b[0;32m      9\u001b[0m \u001b[39m    )\u001b[39;49m\n\u001b[0;32m     10\u001b[0m \u001b[39m\"\"\"\u001b[39;49m)\n",
      "\u001b[1;31mOperationalError\u001b[0m: table Jobs already exists"
     ]
    }
   ],
   "source": [
    "cursor.execute(\"\"\"\n",
    "    CREATE TABLE Jobs (\n",
    "        JobID INT NOT NULL PRIMARY KEY ,\n",
    "        Title varchar(300) NOT NULL ,\n",
    "        Level INT DEFAULT 1 ,\n",
    "        PayCheck INT DEFAULT 100,\n",
    "        Multiplier INT DEFAULT 1 ,\n",
    "        Text TEXT DEFAULT \"worked hard and earned money\"\n",
    "    )\n",
    "\"\"\")"
   ]
  },
  {
   "cell_type": "code",
   "execution_count": 13,
   "metadata": {},
   "outputs": [
    {
     "data": {
      "text/plain": [
       "<sqlite3.Cursor at 0x1ec8d3b70c0>"
      ]
     },
     "execution_count": 13,
     "metadata": {},
     "output_type": "execute_result"
    }
   ],
   "source": [
    "cursor.execute(\"\"\"\n",
    "    ALTER TABLE Jobs ADD Text TEXT DEFAULT \"worked hard and earned money\"\n",
    "\"\"\")"
   ]
  },
  {
   "cell_type": "code",
   "execution_count": 3,
   "metadata": {},
   "outputs": [
    {
     "data": {
      "text/plain": [
       "<sqlite3.Cursor at 0x1f5fd72a6c0>"
      ]
     },
     "execution_count": 3,
     "metadata": {},
     "output_type": "execute_result"
    }
   ],
   "source": [
    "cursor.execute(\"\"\"\n",
    "    CREATE TABLE Items (\n",
    "        ItemID INT NOT NULL PRIMARY KEY ,\n",
    "        Title varchar(300) NOT NULL ,\n",
    "        Level INT DEFAULT 1 ,\n",
    "        Price INT DEFAULT 100,\n",
    "        Attack INT DEFAULT 1 ,\n",
    "        Defend INT DEFAULT 1\n",
    "    )\n",
    "\"\"\")"
   ]
  },
  {
   "cell_type": "code",
   "execution_count": 9,
   "metadata": {},
   "outputs": [
    {
     "data": {
      "text/plain": [
       "<sqlite3.Cursor at 0x15514d256c0>"
      ]
     },
     "execution_count": 9,
     "metadata": {},
     "output_type": "execute_result"
    }
   ],
   "source": [
    "cursor.execute(\"\"\"\n",
    "    ALTER TABLE Players ADD ActiveWeapon INT DEFAULT 0\n",
    "\"\"\")"
   ]
  },
  {
   "cell_type": "code",
   "execution_count": 9,
   "metadata": {},
   "outputs": [
    {
     "data": {
      "text/plain": [
       "<sqlite3.Cursor at 0x1f5fd72a6c0>"
      ]
     },
     "execution_count": 9,
     "metadata": {},
     "output_type": "execute_result"
    }
   ],
   "source": [
    "cursor.execute(\"\"\"\n",
    "    CREATE TABLE Inventories (\n",
    "        InventoryID INT NOT NULL PRIMARY KEY ,\n",
    "        Inventory varchar(1000) NOT NULL ,\n",
    "        Bag TEXT DEFAULT \"[]\"\n",
    "    )\n",
    "\"\"\")"
   ]
  },
  {
   "cell_type": "code",
   "execution_count": 20,
   "metadata": {},
   "outputs": [
    {
     "data": {
      "text/plain": [
       "<sqlite3.Cursor at 0x2321fb563c0>"
      ]
     },
     "execution_count": 20,
     "metadata": {},
     "output_type": "execute_result"
    }
   ],
   "source": [
    "cursor.execute(\"\"\"\n",
    "    CREATE TABLE Members (\n",
    "        MemberID    INT    NOT NULL ,\n",
    "        NickName varchar(300),\n",
    "        Name varchar(300) NOT NULL,\n",
    "        Member int NOT NULL,\n",
    "        PRIMARY KEY (MemberID)\n",
    "    )\n",
    "\"\"\")"
   ]
  },
  {
   "cell_type": "code",
   "execution_count": 17,
   "metadata": {},
   "outputs": [
    {
     "data": {
      "text/plain": [
       "[(1, 'Begger', 1, 100, 1, 'worked hard and earned money'),\n",
       " (2, 'Stripper', 2, 150, 1, 'twerked and danced and earned some money'),\n",
       " (3, 'Telemarketer', 3, 200, 1, 'worked hard and earned money'),\n",
       " (4, 'Actor', 4, 250, 1, 'worked hard and earned money'),\n",
       " (5, 'Photographer', 5, 300, 1, 'worked hard and earned money'),\n",
       " (6, 'StockBrocker', 6, 350, 1, 'worked hard and earned money'),\n",
       " (7, 'RealStateAgent', 7, 400, 1, 'worked hard and earned money'),\n",
       " (8, 'CryptoMiner', 8, 500, 1, 'worked hard and earned money'),\n",
       " (9, 'Prostitute', 9, 600, 1, 'worked hard and earned money'),\n",
       " (10, 'DrugDealer', 10, 700, 1, 'worked hard and earned money'),\n",
       " (11, 'OrganDealer', 11, 800, 1, 'worked hard and earned money'),\n",
       " (12, 'Doctor', 12, 900, 1, 'worked hard and earned money'),\n",
       " (13, 'Surgon', 13, 1000, 1, 'worked hard and earned money'),\n",
       " (14, 'SlaveTrafficer', 14, 1200, 1, 'worked hard and earned money')]"
      ]
     },
     "execution_count": 17,
     "metadata": {},
     "output_type": "execute_result"
    }
   ],
   "source": [
    "cursor.execute(\"\"\"\n",
    "    SELECT * FROM Jobs\n",
    "\"\"\").fetchall()"
   ]
  },
  {
   "cell_type": "code",
   "execution_count": 10,
   "metadata": {},
   "outputs": [
    {
     "ename": "OperationalError",
     "evalue": "table Inventories already exists",
     "output_type": "error",
     "traceback": [
      "\u001b[1;31m---------------------------------------------------------------------------\u001b[0m",
      "\u001b[1;31mOperationalError\u001b[0m                          Traceback (most recent call last)",
      "Cell \u001b[1;32mIn[10], line 1\u001b[0m\n\u001b[1;32m----> 1\u001b[0m cursor\u001b[39m.\u001b[39;49mexecute(\u001b[39m\"\"\"\u001b[39;49m\n\u001b[0;32m      2\u001b[0m \u001b[39m    CREATE TABLE Inventories (\u001b[39;49m\n\u001b[0;32m      3\u001b[0m \u001b[39m        InventoryID INT NOT NULL PRIMARY KEY ,\u001b[39;49m\n\u001b[0;32m      4\u001b[0m \u001b[39m        MemberID    INT    NOT NULL ,\u001b[39;49m\n\u001b[0;32m      5\u001b[0m \u001b[39m        Inventory varchar(1000) NOT NULL ,\u001b[39;49m\n\u001b[0;32m      6\u001b[0m \u001b[39m        Bag TEXT DEFAULT \u001b[39;49m\u001b[39m\"\u001b[39;49m\u001b[39m[]\u001b[39;49m\u001b[39m\"\u001b[39;49m\u001b[39m,\u001b[39;49m\n\u001b[0;32m      7\u001b[0m \u001b[39m        FOREIGN KEY    (MemberID)    REFERENCES Persons(MemberID) \u001b[39;49m\n\u001b[0;32m      8\u001b[0m \u001b[39m    )\u001b[39;49m\n\u001b[0;32m      9\u001b[0m \u001b[39m\"\"\"\u001b[39;49m)\n",
      "\u001b[1;31mOperationalError\u001b[0m: table Inventories already exists"
     ]
    }
   ],
   "source": [
    "cursor.execute(\"\"\"\n",
    "    CREATE TABLE Inventories (\n",
    "        InventoryID INT NOT NULL PRIMARY KEY ,\n",
    "        MemberID    INT    NOT NULL ,\n",
    "        Inventory varchar(1000) NOT NULL ,\n",
    "        Bag TEXT DEFAULT \"[]\",\n",
    "        FOREIGN KEY    (MemberID)    REFERENCES Persons(MemberID) \n",
    "    )\n",
    "\"\"\")"
   ]
  },
  {
   "cell_type": "code",
   "execution_count": 3,
   "metadata": {},
   "outputs": [
    {
     "ename": "OperationalError",
     "evalue": "cannot drop PRIMARY KEY column: \"MemberId\"",
     "output_type": "error",
     "traceback": [
      "\u001b[1;31m---------------------------------------------------------------------------\u001b[0m",
      "\u001b[1;31mOperationalError\u001b[0m                          Traceback (most recent call last)",
      "Cell \u001b[1;32mIn[3], line 1\u001b[0m\n\u001b[1;32m----> 1\u001b[0m cursor\u001b[39m.\u001b[39;49mexecute(\u001b[39m\"\"\"\u001b[39;49m\n\u001b[0;32m      2\u001b[0m \u001b[39m    ALTER TABLE Members DROP MemberId\u001b[39;49m\n\u001b[0;32m      3\u001b[0m \u001b[39m\"\"\"\u001b[39;49m)\n",
      "\u001b[1;31mOperationalError\u001b[0m: cannot drop PRIMARY KEY column: \"MemberId\""
     ]
    }
   ],
   "source": [
    "cursor.execute(\"\"\"\n",
    "    ALTER TABLE Members DROP MemberId\n",
    "\"\"\")"
   ]
  },
  {
   "cell_type": "code",
   "execution_count": 24,
   "metadata": {},
   "outputs": [
    {
     "data": {
      "text/plain": [
       "<sqlite3.Cursor at 0x2321fb563c0>"
      ]
     },
     "execution_count": 24,
     "metadata": {},
     "output_type": "execute_result"
    }
   ],
   "source": [
    "cursor.execute(\"\"\"\n",
    "    INSERT INTO Members (MemberId, Name, Member) VALUES (29,'LazyRaccoon', 809083103829426206)\n",
    "\"\"\")"
   ]
  },
  {
   "cell_type": "code",
   "execution_count": 5,
   "metadata": {},
   "outputs": [
    {
     "data": {
      "text/plain": [
       "[(1, 1, 5, 7900, 5, 761679223005249557, 40),\n",
       " (2, 2, 1, 1000, 1, 764089185438269470, 0),\n",
       " (3, 3, 1, 1000, 1, 830114748775399444, 0),\n",
       " (4, 4, 1, 1000, 1, 833013266878955580, 0),\n",
       " (5, 5, 1, 1000, 1, 918160640181436456, 0),\n",
       " (6, 6, 1, 1000, 1, 740638011003502692, 0),\n",
       " (7, 7, 1, 1000, 1, 755890974009589813, 0),\n",
       " (8, 8, 1, 1000, 1, 1004019524401639504, 0),\n",
       " (9, 9, 1, 1000, 1, 865572208965189673, 0),\n",
       " (10, 10, 1, 1000, 1, 741261619006537770, 0),\n",
       " (11, 11, 1, 1000, 1, 715468927966380054, 0),\n",
       " (12, 12, 1, 1000, 1, 809083103829426206, 0),\n",
       " (13, 13, 1, 1000, 1, 697123888882253915, 0),\n",
       " (14, 14, 1, 1000, 1, 755663639918149672, 0),\n",
       " (15, 15, 1, 1000, 1, 896707257897713704, 0),\n",
       " (16, 16, 1, 1000, 1, 969306288582430750, 0),\n",
       " (17, 17, 1, 1000, 1, 837364335738880001, 0),\n",
       " (18, 18, 1, 1000, 1, 740957399573332061, 0),\n",
       " (19, 19, 5, 106003, 5, 697346776469864519, 40),\n",
       " (20, 20, 1, 1000, 1, 740882396622094398, 0),\n",
       " (21, 21, 3, 2897, 3, 664127746896822292, 20),\n",
       " (22, 22, 1, 1000, 1, 882880150830735441, 0),\n",
       " (23, 23, 1, 1000, 1, 793767477573451786, 0),\n",
       " (24, 24, 1, 1000, 1, 882880150830735441, 0),\n",
       " (25, 25, 1, 1000, 1, 911547659574202399, 0),\n",
       " (26, 26, 1, 1000, 1, 940906708035829770, 0),\n",
       " (27, 27, 1, 1000, 1, 950739248800227378, 0),\n",
       " (28, 28, 1, 1000, 1, 1004641663211286529, 0)]"
      ]
     },
     "execution_count": 5,
     "metadata": {},
     "output_type": "execute_result"
    }
   ],
   "source": [
    "cursor.execute(\"\"\"\n",
    "    SELECT * FROM Players\n",
    "\"\"\").fetchall()"
   ]
  },
  {
   "cell_type": "code",
   "execution_count": 8,
   "metadata": {},
   "outputs": [
    {
     "data": {
      "text/plain": [
       "[]"
      ]
     },
     "execution_count": 8,
     "metadata": {},
     "output_type": "execute_result"
    }
   ],
   "source": [
    "cursor.execute(\"\"\"\n",
    "    DROP TABLE Inventories\n",
    "\"\"\").fetchall()"
   ]
  },
  {
   "cell_type": "code",
   "execution_count": 22,
   "metadata": {},
   "outputs": [
    {
     "data": {
      "text/plain": [
       "<sqlite3.Cursor at 0x2321fb563c0>"
      ]
     },
     "execution_count": 22,
     "metadata": {},
     "output_type": "execute_result"
    }
   ],
   "source": [
    "cursor.execute(\"\"\"\n",
    "    CREATE TABLE Players (\n",
    "        PlayerID    INT    NOT NULL,\n",
    "        \n",
    "        MemberID    INT    NOT NULL ,\n",
    "        \n",
    "        JobID    INT    DEFAULT 1 ,\n",
    "        \n",
    "        Money    INT    DEFAULT 1000 ,\n",
    "        \n",
    "        Level    INT    DEFAULT 1 ,\n",
    "        \n",
    "        Player    INT    NOT NULL ,\n",
    "        \n",
    "        FOREIGN KEY    (MemberID)    REFERENCES Persons(MemberID) ,\n",
    "        \n",
    "        FOREIGN KEY (JobID)    REFERENCES Persons(JobID) ,\n",
    "        \n",
    "        PRIMARY KEY (PlayerID)\n",
    "    )\n",
    "\"\"\")"
   ]
  },
  {
   "cell_type": "code",
   "execution_count": 71,
   "metadata": {},
   "outputs": [
    {
     "name": "stdout",
     "output_type": "stream",
     "text": [
      "[(1, 'سرباز پسر', 'Matinamsa', 761679223005249557), (2, 'ارش کثیف', 'araash', 764089185438269470), (3, None, 'Monstercrazy', 830114748775399444), (4, 'dozd', 'zambie2000', 833013266878955580), (5, None, 'LuckyX_2007', 918160640181436456), (6, 'Mahan 2', 'mahan_moeini', 740638011003502692), (7, None, 'ŠŌĹŎ', 755890974009589813), (8, None, 'LazyRaccoon', 1004019524401639504), (9, None, 'prof. Lenin', 865572208965189673), (10, 'پرهام', 'Parham.1378', 741261619006537770), (11, 'هوا هوای عبادته', 'aria', 715468927966380054), (12, 'کره قهوه ای', 'arash.tb', 809083103829426206), (13, 'The Android sent by Cyberlife', 'Mahan', 697123888882253915), (14, None, 'mrredmider.redmider', 755663639918149672), (15, 'mr.brown', 'arash.tb', 896707257897713704), (16, 'Mahan 3', 'mahankiani', 969306288582430750), (17, 'shuttleCOCK', 'Mshmoeini', 837364335738880001), (18, None, 'aliprheidari', 740957399573332061), (19, None, 'parsa', 697346776469864519), (20, 'ح ز', 'ALI2007X', 740882396622094398), (21, 'بالاخره زنده شد', 'LazyRaccoon', 664127746896822292), (22, None, 'tm010', 882880150830735441), (23, 'مویینی', 'Mshmoeini', 793767477573451786), (24, 'TMK7', 'tm010', 882880150830735441), (25, None, 'GG_NEOX_GG', 911547659574202399), (26, None, 'V_iliam', 940906708035829770), (27, None, 'siavash.f', 950739248800227378), (28, None, 'iliya', 1004641663211286529)]\n"
     ]
    }
   ],
   "source": [
    "from utilities import INSERT_PLAYERS\n",
    "\n",
    "INSERT_PLAYERS()"
   ]
  },
  {
   "cell_type": "code",
   "execution_count": 3,
   "metadata": {},
   "outputs": [
    {
     "ename": "NameError",
     "evalue": "name 'cursor' is not defined",
     "output_type": "error",
     "traceback": [
      "\u001b[1;31m---------------------------------------------------------------------------\u001b[0m",
      "\u001b[1;31mNameError\u001b[0m                                 Traceback (most recent call last)",
      "Cell \u001b[1;32mIn[3], line 1\u001b[0m\n\u001b[1;32m----> 1\u001b[0m cursor\u001b[39m.\u001b[39mexecute(\u001b[39m\"\"\"\u001b[39m\n\u001b[0;32m      2\u001b[0m \u001b[39m    SELECT * FROM Players\u001b[39m\n\u001b[0;32m      3\u001b[0m \u001b[39m\"\"\"\u001b[39m)\u001b[39m.\u001b[39mfetchall()\n\u001b[0;32m      5\u001b[0m \u001b[39m# cursor.execute(f\"\"\"\u001b[39;00m\n\u001b[0;32m      6\u001b[0m \u001b[39m#     SELECT * FROM Members WHERE MemberId BETWEEN 1 AND {last}\u001b[39;00m\n\u001b[0;32m      7\u001b[0m \u001b[39m# \"\"\").fetchall()\u001b[39;00m\n",
      "\u001b[1;31mNameError\u001b[0m: name 'cursor' is not defined"
     ]
    }
   ],
   "source": [
    "cursor.execute(\"\"\"\n",
    "    SELECT * FROM Players\n",
    "\"\"\").fetchall()\n",
    "\n",
    "# cursor.execute(f\"\"\"\n",
    "#     SELECT * FROM Members WHERE MemberId BETWEEN 1 AND {last}\n",
    "# \"\"\").fetchall()"
   ]
  },
  {
   "cell_type": "code",
   "execution_count": 2,
   "metadata": {},
   "outputs": [
    {
     "ename": "NameError",
     "evalue": "name 'connection' is not defined",
     "output_type": "error",
     "traceback": [
      "\u001b[1;31m---------------------------------------------------------------------------\u001b[0m",
      "\u001b[1;31mNameError\u001b[0m                                 Traceback (most recent call last)",
      "Cell \u001b[1;32mIn[2], line 1\u001b[0m\n\u001b[1;32m----> 1\u001b[0m connection\u001b[39m.\u001b[39mcommit()\n",
      "\u001b[1;31mNameError\u001b[0m: name 'connection' is not defined"
     ]
    }
   ],
   "source": [
    "connection.commit()\n"
   ]
  },
  {
   "cell_type": "code",
   "execution_count": 44,
   "metadata": {},
   "outputs": [],
   "source": [
    "connection.close()"
   ]
  }
 ],
 "metadata": {
  "kernelspec": {
   "display_name": "Python 3",
   "language": "python",
   "name": "python3"
  },
  "language_info": {
   "codemirror_mode": {
    "name": "ipython",
    "version": 3
   },
   "file_extension": ".py",
   "mimetype": "text/x-python",
   "name": "python",
   "nbconvert_exporter": "python",
   "pygments_lexer": "ipython3",
   "version": "3.11.0"
  },
  "orig_nbformat": 4,
  "vscode": {
   "interpreter": {
    "hash": "e7028769192d0e6cda84515c3e774ccf0a877b53e20b3bf36b5d4a31943c3eb8"
   }
  }
 },
 "nbformat": 4,
 "nbformat_minor": 2
}
